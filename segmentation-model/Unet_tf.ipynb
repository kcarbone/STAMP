{
 "cells": [
  {
   "cell_type": "code",
   "execution_count": 1,
   "metadata": {},
   "outputs": [
    {
     "name": "stdout",
     "output_type": "stream",
     "text": [
      "2.1.0\n"
     ]
    }
   ],
   "source": [
    "#Image Data prepared with https://towardsdatascience.com/a-keras-pipeline-for-image-segmentation-part-1-6515a421157d\n",
    "import tensorflow as tf\n",
    "print(tf.version.VERSION)"
   ]
  },
  {
   "cell_type": "code",
   "execution_count": 2,
   "metadata": {},
   "outputs": [],
   "source": [
    "from tensorflow.keras.preprocessing.image import ImageDataGenerator\n",
    "\n",
    "import glob\n",
    "from matplotlib.pyplot import imread\n",
    "import numpy as np\n",
    "\n",
    "def make_array(path):\n",
    "    filelist = glob.glob(path)\n",
    "    x = np.array([np.array(imread(fname)) for fname in filelist])\n",
    "    return x\n",
    "\n",
    "train_num=len(glob.glob('./run_training/data/train_frames/train/*.tif'))\n",
    "val_num=len(glob.glob('./run_training/data/val_frames/val/*.tif'))\n"
   ]
  },
  {
   "cell_type": "code",
   "execution_count": 3,
   "metadata": {},
   "outputs": [],
   "source": [
    "images = make_array('./run_training/data/train_frames/train/*.tif')"
   ]
  },
  {
   "cell_type": "code",
   "execution_count": 4,
   "metadata": {},
   "outputs": [
    {
     "data": {
      "text/plain": [
       "(416, 512, 512)"
      ]
     },
     "execution_count": 4,
     "metadata": {},
     "output_type": "execute_result"
    }
   ],
   "source": [
    "images.shape"
   ]
  },
  {
   "cell_type": "code",
   "execution_count": 2,
   "metadata": {},
   "outputs": [
    {
     "name": "stdout",
     "output_type": "stream",
     "text": [
      "train_images: (416, 512, 512, 1)\n",
      "train_masks: (416, 512, 512, 1)\n",
      "val_images: (119, 512, 512, 1)\n",
      "val_masks: (119, 512, 512, 1)\n"
     ]
    }
   ],
   "source": [
    "from tensorflow.keras.preprocessing.image import ImageDataGenerator\n",
    "\n",
    "import glob\n",
    "from matplotlib.pyplot import imread\n",
    "import numpy as np\n",
    "\n",
    "def make_array(path):\n",
    "    filelist = glob.glob(path)\n",
    "    x = np.array([np.array(imread(fname)) for fname in filelist])\n",
    "    return x\n",
    "\n",
    "train_num=len(glob.glob('./run_training/data/train_frames/train/*.tif'))\n",
    "val_num=len(glob.glob('./run_training/data/val_frames/val/*.tif'))\n",
    "\n",
    "#1-channel images\n",
    "images = make_array('./run_training/data/train_frames/train/*.tif').reshape(train_num,512,512,1)\n",
    "masks = make_array('./run_training/data/train_masks/train/*.tif').reshape(train_num,512,512,1)\n",
    "val_images = make_array('./run_training/data/val_frames/val/*.tif').reshape(val_num,512,512,1)\n",
    "val_masks = make_array('./run_training/data/val_masks/val/*.tif').reshape(val_num,512,512,1)\n",
    "\n",
    "\n",
    "#check px values\n",
    "#test=val_images.reshape(8,512,512,1)\n",
    "#test[0][150]\n",
    "print(\"train_images: \"+str(images.shape))\n",
    "print(\"train_masks: \"+str(masks.shape))\n",
    "print(\"val_images: \"+str(val_images.shape))\n",
    "print(\"val_masks: \"+str(val_masks.shape))"
   ]
  },
  {
   "cell_type": "code",
   "execution_count": 3,
   "metadata": {},
   "outputs": [
    {
     "data": {
      "text/plain": [
       "(8, 512, 512, 1)"
      ]
     },
     "execution_count": 3,
     "metadata": {},
     "output_type": "execute_result"
    }
   ],
   "source": [
    "from tensorflow.keras.preprocessing.image import ImageDataGenerator\n",
    "\n",
    "BATCH_SIZE=8\n",
    "\n",
    "#img_gen_args = dict(rescale=1./65535)\n",
    "#mask_gen_args = dict(rescale=1./65535)\n",
    "\n",
    "data_gen_args = dict(rescale=1./65535,\n",
    "                     rotation_range=0.2,\n",
    "                     width_shift_range=0.05,\n",
    "                     height_shift_range=0.05,\n",
    "                     shear_range=0.05,\n",
    "                     zoom_range=0.05,\n",
    "                     horizontal_flip=True,\n",
    "                     fill_mode='nearest')\n",
    "\n",
    "\n",
    "image_datagen = ImageDataGenerator(**data_gen_args)\n",
    "mask_datagen = ImageDataGenerator(**data_gen_args)\n",
    "val_image_datagen = ImageDataGenerator(**data_gen_args)\n",
    "val_mask_datagen = ImageDataGenerator(**data_gen_args)\n",
    "\n",
    "# Provide the same seed and keyword arguments to the fit and flow methods\n",
    "seed = 1\n",
    "\n",
    "#image_datagen.fit(images, augment=True, seed=seed)\n",
    "#mask_datagen.fit(masks, augment=True, seed=seed)\n",
    "\n",
    "image_generator = image_datagen.flow(\n",
    "    images, y=None, shuffle=False, batch_size=BATCH_SIZE, sample_weight=None, seed=seed,\n",
    "    save_to_dir=None, subset=None\n",
    ")\n",
    "\n",
    "mask_generator = image_datagen.flow(\n",
    "    masks, y=None, shuffle=False, batch_size=BATCH_SIZE, sample_weight=None, seed=seed,\n",
    "    save_to_dir=None, subset=None\n",
    ")\n",
    "\n",
    "val_image_generator = image_datagen.flow(\n",
    "    val_images, y=None, shuffle=False, batch_size=BATCH_SIZE, sample_weight=None, seed=seed,\n",
    "    save_to_dir=None, subset=None\n",
    ")\n",
    "\n",
    "val_mask_generator = image_datagen.flow(\n",
    "    val_masks, y=None, shuffle=False, batch_size=BATCH_SIZE, sample_weight=None, seed=seed,\n",
    "    save_to_dir=None, subset=None\n",
    ")\n",
    "\n",
    "# combine generators into one which yields image and masks\n",
    "train_generator = zip(image_generator, mask_generator)\n",
    "val_generator = zip(val_image_generator, val_mask_generator)\n",
    "\n",
    "#val_mask_generator[0][0][150]\n",
    "val_image_generator[0].shape"
   ]
  },
  {
   "cell_type": "code",
   "execution_count": 4,
   "metadata": {},
   "outputs": [],
   "source": [
    "#From https://github.com/zhixuhao/unet/blob/master/model.py\n",
    "\n",
    "import numpy as np \n",
    "import os\n",
    "import skimage.io as io\n",
    "import skimage.transform as trans\n",
    "import numpy as np\n",
    "from tensorflow.keras.models import *\n",
    "from tensorflow.keras.layers import *\n",
    "from tensorflow.keras.optimizers import *\n",
    "from tensorflow.keras.callbacks import ModelCheckpoint, LearningRateScheduler\n",
    "from tensorflow.keras import backend as keras\n",
    "\n",
    "\n",
    "def unet(pretrained_weights=None, input_size = (512,512,1)):\n",
    "    inputs = Input(input_size)\n",
    "    conv1 = Conv2D(64, 3, activation = 'relu', padding = 'same', kernel_initializer = 'he_normal')(inputs)\n",
    "    conv1 = Conv2D(64, 3, activation = 'relu', padding = 'same', kernel_initializer = 'he_normal')(conv1)\n",
    "    pool1 = MaxPooling2D(pool_size=(2, 2))(conv1)\n",
    "    conv2 = Conv2D(128, 3, activation = 'relu', padding = 'same', kernel_initializer = 'he_normal')(pool1)\n",
    "    conv2 = Conv2D(128, 3, activation = 'relu', padding = 'same', kernel_initializer = 'he_normal')(conv2)\n",
    "    pool2 = MaxPooling2D(pool_size=(2, 2))(conv2)\n",
    "    conv3 = Conv2D(256, 3, activation = 'relu', padding = 'same', kernel_initializer = 'he_normal')(pool2)\n",
    "    conv3 = Conv2D(256, 3, activation = 'relu', padding = 'same', kernel_initializer = 'he_normal')(conv3)\n",
    "    pool3 = MaxPooling2D(pool_size=(2, 2))(conv3)\n",
    "    conv4 = Conv2D(512, 3, activation = 'relu', padding = 'same', kernel_initializer = 'he_normal')(pool3)\n",
    "    conv4 = Conv2D(512, 3, activation = 'relu', padding = 'same', kernel_initializer = 'he_normal')(conv4)\n",
    "    drop4 = Dropout(0.5)(conv4)\n",
    "    pool4 = MaxPooling2D(pool_size=(2, 2))(drop4)\n",
    "\n",
    "    conv5 = Conv2D(1024, 3, activation = 'relu', padding = 'same', kernel_initializer = 'he_normal')(pool4)\n",
    "    conv5 = Conv2D(1024, 3, activation = 'relu', padding = 'same', kernel_initializer = 'he_normal')(conv5)\n",
    "    drop5 = Dropout(0.5)(conv5)\n",
    "\n",
    "    up6 = Conv2D(512, 2, activation = 'relu', padding = 'same', kernel_initializer = 'he_normal')(UpSampling2D(size = (2,2))(drop5))\n",
    "    merge6 = concatenate([drop4,up6], axis = 3)\n",
    "    conv6 = Conv2D(512, 3, activation = 'relu', padding = 'same', kernel_initializer = 'he_normal')(merge6)\n",
    "    conv6 = Conv2D(512, 3, activation = 'relu', padding = 'same', kernel_initializer = 'he_normal')(conv6)\n",
    "\n",
    "    up7 = Conv2D(256, 2, activation = 'relu', padding = 'same', kernel_initializer = 'he_normal')(UpSampling2D(size = (2,2))(conv6))\n",
    "    merge7 = concatenate([conv3,up7], axis = 3)\n",
    "    conv7 = Conv2D(256, 3, activation = 'relu', padding = 'same', kernel_initializer = 'he_normal')(merge7)\n",
    "    conv7 = Conv2D(256, 3, activation = 'relu', padding = 'same', kernel_initializer = 'he_normal')(conv7)\n",
    "\n",
    "    up8 = Conv2D(128, 2, activation = 'relu', padding = 'same', kernel_initializer = 'he_normal')(UpSampling2D(size = (2,2))(conv7))\n",
    "    merge8 = concatenate([conv2,up8], axis = 3)\n",
    "    conv8 = Conv2D(128, 3, activation = 'relu', padding = 'same', kernel_initializer = 'he_normal')(merge8)\n",
    "    conv8 = Conv2D(128, 3, activation = 'relu', padding = 'same', kernel_initializer = 'he_normal')(conv8)\n",
    "\n",
    "    up9 = Conv2D(64, 2, activation = 'relu', padding = 'same', kernel_initializer = 'he_normal')(UpSampling2D(size = (2,2))(conv8))\n",
    "    merge9 = concatenate([conv1,up9], axis = 3)\n",
    "    conv9 = Conv2D(64, 3, activation = 'relu', padding = 'same', kernel_initializer = 'he_normal')(merge9)\n",
    "    conv9 = Conv2D(64, 3, activation = 'relu', padding = 'same', kernel_initializer = 'he_normal')(conv9)\n",
    "    conv9 = Conv2D(2, 3, activation = 'relu', padding = 'same', kernel_initializer = 'he_normal')(conv9)\n",
    "    conv10 = Conv2D(1, 1, activation = 'sigmoid')(conv9)\n",
    "\n",
    "    model = Model(inputs = inputs, outputs = conv10)\n",
    "\n",
    "    model.compile(optimizer = Adam(lr = 1e-4), loss = 'binary_crossentropy', metrics = ['accuracy'])\n",
    "    \n",
    "    #model.summary()\n",
    "\n",
    "    if(pretrained_weights):\n",
    "      model.load_weights(pretrained_weights)\n",
    "\n",
    "    return model"
   ]
  },
  {
   "cell_type": "code",
   "execution_count": 5,
   "metadata": {},
   "outputs": [
    {
     "name": "stdout",
     "output_type": "stream",
     "text": [
      "Model: \"model\"\n",
      "__________________________________________________________________________________________________\n",
      "Layer (type)                    Output Shape         Param #     Connected to                     \n",
      "==================================================================================================\n",
      "input_1 (InputLayer)            [(None, 512, 512, 1) 0                                            \n",
      "__________________________________________________________________________________________________\n",
      "conv2d (Conv2D)                 (None, 512, 512, 64) 640         input_1[0][0]                    \n",
      "__________________________________________________________________________________________________\n",
      "conv2d_1 (Conv2D)               (None, 512, 512, 64) 36928       conv2d[0][0]                     \n",
      "__________________________________________________________________________________________________\n",
      "max_pooling2d (MaxPooling2D)    (None, 256, 256, 64) 0           conv2d_1[0][0]                   \n",
      "__________________________________________________________________________________________________\n",
      "conv2d_2 (Conv2D)               (None, 256, 256, 128 73856       max_pooling2d[0][0]              \n",
      "__________________________________________________________________________________________________\n",
      "conv2d_3 (Conv2D)               (None, 256, 256, 128 147584      conv2d_2[0][0]                   \n",
      "__________________________________________________________________________________________________\n",
      "max_pooling2d_1 (MaxPooling2D)  (None, 128, 128, 128 0           conv2d_3[0][0]                   \n",
      "__________________________________________________________________________________________________\n",
      "conv2d_4 (Conv2D)               (None, 128, 128, 256 295168      max_pooling2d_1[0][0]            \n",
      "__________________________________________________________________________________________________\n",
      "conv2d_5 (Conv2D)               (None, 128, 128, 256 590080      conv2d_4[0][0]                   \n",
      "__________________________________________________________________________________________________\n",
      "max_pooling2d_2 (MaxPooling2D)  (None, 64, 64, 256)  0           conv2d_5[0][0]                   \n",
      "__________________________________________________________________________________________________\n",
      "conv2d_6 (Conv2D)               (None, 64, 64, 512)  1180160     max_pooling2d_2[0][0]            \n",
      "__________________________________________________________________________________________________\n",
      "conv2d_7 (Conv2D)               (None, 64, 64, 512)  2359808     conv2d_6[0][0]                   \n",
      "__________________________________________________________________________________________________\n",
      "dropout (Dropout)               (None, 64, 64, 512)  0           conv2d_7[0][0]                   \n",
      "__________________________________________________________________________________________________\n",
      "max_pooling2d_3 (MaxPooling2D)  (None, 32, 32, 512)  0           dropout[0][0]                    \n",
      "__________________________________________________________________________________________________\n",
      "conv2d_8 (Conv2D)               (None, 32, 32, 1024) 4719616     max_pooling2d_3[0][0]            \n",
      "__________________________________________________________________________________________________\n",
      "conv2d_9 (Conv2D)               (None, 32, 32, 1024) 9438208     conv2d_8[0][0]                   \n",
      "__________________________________________________________________________________________________\n",
      "dropout_1 (Dropout)             (None, 32, 32, 1024) 0           conv2d_9[0][0]                   \n",
      "__________________________________________________________________________________________________\n",
      "up_sampling2d (UpSampling2D)    (None, 64, 64, 1024) 0           dropout_1[0][0]                  \n",
      "__________________________________________________________________________________________________\n",
      "conv2d_10 (Conv2D)              (None, 64, 64, 512)  2097664     up_sampling2d[0][0]              \n",
      "__________________________________________________________________________________________________\n",
      "concatenate (Concatenate)       (None, 64, 64, 1024) 0           dropout[0][0]                    \n",
      "                                                                 conv2d_10[0][0]                  \n",
      "__________________________________________________________________________________________________\n",
      "conv2d_11 (Conv2D)              (None, 64, 64, 512)  4719104     concatenate[0][0]                \n",
      "__________________________________________________________________________________________________\n",
      "conv2d_12 (Conv2D)              (None, 64, 64, 512)  2359808     conv2d_11[0][0]                  \n",
      "__________________________________________________________________________________________________\n",
      "up_sampling2d_1 (UpSampling2D)  (None, 128, 128, 512 0           conv2d_12[0][0]                  \n",
      "__________________________________________________________________________________________________\n",
      "conv2d_13 (Conv2D)              (None, 128, 128, 256 524544      up_sampling2d_1[0][0]            \n",
      "__________________________________________________________________________________________________\n",
      "concatenate_1 (Concatenate)     (None, 128, 128, 512 0           conv2d_5[0][0]                   \n",
      "                                                                 conv2d_13[0][0]                  \n",
      "__________________________________________________________________________________________________\n",
      "conv2d_14 (Conv2D)              (None, 128, 128, 256 1179904     concatenate_1[0][0]              \n",
      "__________________________________________________________________________________________________\n",
      "conv2d_15 (Conv2D)              (None, 128, 128, 256 590080      conv2d_14[0][0]                  \n",
      "__________________________________________________________________________________________________\n",
      "up_sampling2d_2 (UpSampling2D)  (None, 256, 256, 256 0           conv2d_15[0][0]                  \n",
      "__________________________________________________________________________________________________\n",
      "conv2d_16 (Conv2D)              (None, 256, 256, 128 131200      up_sampling2d_2[0][0]            \n",
      "__________________________________________________________________________________________________\n",
      "concatenate_2 (Concatenate)     (None, 256, 256, 256 0           conv2d_3[0][0]                   \n",
      "                                                                 conv2d_16[0][0]                  \n",
      "__________________________________________________________________________________________________\n",
      "conv2d_17 (Conv2D)              (None, 256, 256, 128 295040      concatenate_2[0][0]              \n",
      "__________________________________________________________________________________________________\n",
      "conv2d_18 (Conv2D)              (None, 256, 256, 128 147584      conv2d_17[0][0]                  \n",
      "__________________________________________________________________________________________________\n",
      "up_sampling2d_3 (UpSampling2D)  (None, 512, 512, 128 0           conv2d_18[0][0]                  \n",
      "__________________________________________________________________________________________________\n",
      "conv2d_19 (Conv2D)              (None, 512, 512, 64) 32832       up_sampling2d_3[0][0]            \n",
      "__________________________________________________________________________________________________\n",
      "concatenate_3 (Concatenate)     (None, 512, 512, 128 0           conv2d_1[0][0]                   \n",
      "                                                                 conv2d_19[0][0]                  \n",
      "__________________________________________________________________________________________________\n",
      "conv2d_20 (Conv2D)              (None, 512, 512, 64) 73792       concatenate_3[0][0]              \n",
      "__________________________________________________________________________________________________\n",
      "conv2d_21 (Conv2D)              (None, 512, 512, 64) 36928       conv2d_20[0][0]                  \n",
      "__________________________________________________________________________________________________\n",
      "conv2d_22 (Conv2D)              (None, 512, 512, 2)  1154        conv2d_21[0][0]                  \n",
      "__________________________________________________________________________________________________\n",
      "conv2d_23 (Conv2D)              (None, 512, 512, 1)  3           conv2d_22[0][0]                  \n",
      "==================================================================================================\n",
      "Total params: 31,031,685\n",
      "Trainable params: 31,031,685\n",
      "Non-trainable params: 0\n",
      "__________________________________________________________________________________________________\n"
     ]
    }
   ],
   "source": [
    "m=unet()\n",
    "m.summary()"
   ]
  },
  {
   "cell_type": "code",
   "execution_count": 6,
   "metadata": {},
   "outputs": [],
   "source": [
    "from tensorflow.keras.callbacks import ModelCheckpoint\n",
    "from tensorflow.keras.callbacks import CSVLogger\n",
    "from tensorflow.keras.callbacks import EarlyStopping\n",
    "from tensorflow.keras.optimizers import Adam\n",
    "\n",
    "NO_OF_TRAINING_IMAGES = len(os.listdir('./run_training/data/train_frames/train/'))\n",
    "NO_OF_VAL_IMAGES = len(os.listdir('./run_training/data/val_frames/val/'))\n",
    "\n",
    "NO_OF_EPOCHS = 20\n",
    "BATCH_SIZE = 8 \n",
    "\n",
    "TRAIN_STEPS = NO_OF_TRAINING_IMAGES//BATCH_SIZE\n",
    "VAL_STEPS = NO_OF_VAL_IMAGES//BATCH_SIZE"
   ]
  },
  {
   "cell_type": "code",
   "execution_count": 7,
   "metadata": {},
   "outputs": [],
   "source": [
    "import datetime\n",
    "\n",
    "m=unet()\n",
    "\n",
    "log_path = \"./logs/fit/\" + datetime.datetime.now().strftime(\"%Y%m%d-%H%M%S\")\n",
    "tensorboard_callback = tf.keras.callbacks.TensorBoard(log_dir=log_path, histogram_freq=1)\n",
    "\n",
    "weights_path = './run_training/checkpoints'\n",
    "checkpoint = ModelCheckpoint(weights_path, monitor='loss', mode='min',\n",
    "                             verbose=1, save_best_only=True)\n",
    "\n",
    "csv_logger = CSVLogger('./logs/log.out', append=True, separator=';')\n",
    "\n",
    "earlystopping = EarlyStopping(monitor ='loss', mode='min', verbose = 1,\n",
    "                              min_delta = 0.01, patience = 3)\n",
    "\n",
    "callbacks_list = [tensorboard_callback, checkpoint, csv_logger, earlystopping]"
   ]
  },
  {
   "cell_type": "code",
   "execution_count": 8,
   "metadata": {},
   "outputs": [
    {
     "name": "stdout",
     "output_type": "stream",
     "text": [
      "WARNING:tensorflow:sample_weight modes were coerced from\n",
      "  ...\n",
      "    to  \n",
      "  ['...']\n",
      "WARNING:tensorflow:sample_weight modes were coerced from\n",
      "  ...\n",
      "    to  \n",
      "  ['...']\n",
      "Train for 52 steps, validate for 14 steps\n",
      "Epoch 1/20\n",
      "51/52 [============================>.] - ETA: 3:10 - loss: 0.3892 - accuracy: 0.9359\n",
      "Epoch 00001: loss improved from inf to 0.38328, saving model to ./run_training/checkpoints\n",
      "WARNING:tensorflow:From /Users/carbonc5/venv/tensor-venv/lib/python3.7/site-packages/tensorflow_core/python/ops/resource_variable_ops.py:1786: calling BaseResourceVariable.__init__ (from tensorflow.python.ops.resource_variable_ops) with constraint is deprecated and will be removed in a future version.\n",
      "Instructions for updating:\n",
      "If using Keras pass *_constraint arguments to layers.\n",
      "INFO:tensorflow:Assets written to: ./run_training/checkpoints/assets\n",
      "52/52 [==============================] - 10409s 200s/step - loss: 0.3833 - accuracy: 0.9362 - val_loss: 0.2428 - val_accuracy: 0.9541\n",
      "Epoch 2/20\n",
      "51/52 [============================>.] - ETA: 2:11 - loss: 0.2083 - accuracy: 0.9516\n",
      "Epoch 00002: loss improved from 0.38328 to 0.20677, saving model to ./run_training/checkpoints\n",
      "INFO:tensorflow:Assets written to: ./run_training/checkpoints/assets\n",
      "52/52 [==============================] - 7191s 138s/step - loss: 0.2068 - accuracy: 0.9516 - val_loss: 0.1582 - val_accuracy: 0.9535\n",
      "Epoch 3/20\n",
      "51/52 [============================>.] - ETA: 2:01 - loss: 0.0565 - accuracy: 0.9517\n",
      "Epoch 00003: loss improved from 0.20677 to 0.05652, saving model to ./run_training/checkpoints\n",
      "INFO:tensorflow:Assets written to: ./run_training/checkpoints/assets\n",
      "52/52 [==============================] - 6641s 128s/step - loss: 0.0565 - accuracy: 0.9517 - val_loss: 0.1426 - val_accuracy: 0.9544\n",
      "Epoch 4/20\n",
      "51/52 [============================>.] - ETA: 2:05 - loss: 0.0482 - accuracy: 0.9522\n",
      "Epoch 00004: loss improved from 0.05652 to 0.04827, saving model to ./run_training/checkpoints\n",
      "INFO:tensorflow:Assets written to: ./run_training/checkpoints/assets\n",
      "52/52 [==============================] - 6852s 132s/step - loss: 0.0483 - accuracy: 0.9521 - val_loss: 0.1763 - val_accuracy: 0.9532\n",
      "Epoch 5/20\n",
      "51/52 [============================>.] - ETA: 2:01 - loss: 0.0470 - accuracy: 0.9521\n",
      "Epoch 00005: loss improved from 0.04827 to 0.04699, saving model to ./run_training/checkpoints\n",
      "INFO:tensorflow:Assets written to: ./run_training/checkpoints/assets\n",
      "52/52 [==============================] - 6660s 128s/step - loss: 0.0470 - accuracy: 0.9521 - val_loss: 0.1613 - val_accuracy: 0.9527\n",
      "Epoch 6/20\n",
      "51/52 [============================>.] - ETA: 2:01 - loss: 0.0452 - accuracy: 0.9518\n",
      "Epoch 00006: loss improved from 0.04699 to 0.04521, saving model to ./run_training/checkpoints\n",
      "INFO:tensorflow:Assets written to: ./run_training/checkpoints/assets\n",
      "52/52 [==============================] - 6662s 128s/step - loss: 0.0452 - accuracy: 0.9518 - val_loss: 0.2051 - val_accuracy: 0.9537\n",
      "Epoch 7/20\n",
      "51/52 [============================>.] - ETA: 2:01 - loss: 0.0437 - accuracy: 0.9519\n",
      "Epoch 00007: loss improved from 0.04521 to 0.04366, saving model to ./run_training/checkpoints\n",
      "INFO:tensorflow:Assets written to: ./run_training/checkpoints/assets\n",
      "52/52 [==============================] - 6660s 128s/step - loss: 0.0437 - accuracy: 0.9519 - val_loss: 0.1852 - val_accuracy: 0.9561\n",
      "Epoch 8/20\n",
      "51/52 [============================>.] - ETA: 2:01 - loss: 0.0431 - accuracy: 0.9519\n",
      "Epoch 00008: loss improved from 0.04366 to 0.04307, saving model to ./run_training/checkpoints\n",
      "INFO:tensorflow:Assets written to: ./run_training/checkpoints/assets\n",
      "52/52 [==============================] - 6676s 128s/step - loss: 0.0431 - accuracy: 0.9519 - val_loss: 0.1785 - val_accuracy: 0.9542\n",
      "Epoch 9/20\n",
      "51/52 [============================>.] - ETA: 2:04 - loss: 0.0421 - accuracy: 0.9547\n",
      "Epoch 00009: loss improved from 0.04307 to 0.04215, saving model to ./run_training/checkpoints\n",
      "INFO:tensorflow:Assets written to: ./run_training/checkpoints/assets\n",
      "52/52 [==============================] - 6829s 131s/step - loss: 0.0422 - accuracy: 0.9554 - val_loss: 0.2002 - val_accuracy: 0.9473\n",
      "Epoch 00009: early stopping\n"
     ]
    }
   ],
   "source": [
    "#If using imports from tensorflow.keras.\n",
    "\n",
    "results = m.fit(\n",
    "    x=train_generator, batch_size=BATCH_SIZE, epochs=NO_OF_EPOCHS, verbose=1, \n",
    "    shuffle=True, class_weight=None, validation_data=val_generator, validation_steps=VAL_STEPS,\n",
    "    sample_weight=None, initial_epoch=0, steps_per_epoch=TRAIN_STEPS,\n",
    "    max_queue_size=10, workers=1, callbacks=callbacks_list,\n",
    "    use_multiprocessing=False\n",
    ")"
   ]
  },
  {
   "cell_type": "code",
   "execution_count": 156,
   "metadata": {},
   "outputs": [],
   "source": [
    "#Load existing model from file\n",
    "#Fill the path to your trained network\n",
    "\n",
    "#9 Epochs, with data augmentation\n",
    "path2network='./run_training/checkpoints/'\n",
    "\n",
    "#One Epoch, no data augmentation\n",
    "#path2network='../../Desktop/20200303/checkpoints/'\n",
    "\n",
    "model = tf.keras.models.load_model(path2network)"
   ]
  },
  {
   "cell_type": "code",
   "execution_count": 157,
   "metadata": {},
   "outputs": [
    {
     "name": "stdout",
     "output_type": "stream",
     "text": [
      "15/15 [==============================] - 408s 27s/step\n"
     ]
    }
   ],
   "source": [
    "results = model.predict(val_image_generator, verbose=1)\n",
    "\n",
    "#Show classes instead of probabilities\n",
    "pr_classes = results.argmax(axis=-1)\n",
    "pr = list(pr_classes)"
   ]
  },
  {
   "cell_type": "code",
   "execution_count": 158,
   "metadata": {},
   "outputs": [
    {
     "data": {
      "text/plain": [
       "(512, 512)"
      ]
     },
     "execution_count": 158,
     "metadata": {},
     "output_type": "execute_result"
    }
   ],
   "source": [
    "results.shape\n",
    "pr = results.reshape(119,512,512)\n",
    "pr[0].shape"
   ]
  },
  {
   "cell_type": "code",
   "execution_count": 161,
   "metadata": {},
   "outputs": [
    {
     "name": "stdout",
     "output_type": "stream",
     "text": [
      "Num Images in Prediction: 119\n",
      "Dimensions of Predicted Images: (512, 512)\n",
      "Showing Prediction for Image #8\n"
     ]
    },
    {
     "data": {
      "image/png": "[encoded data removed]",
      "text/plain": [
       "<Figure size 1080x1080 with 3 Axes>"
      ]
     },
     "metadata": {
      "needs_background": "light"
     },
     "output_type": "display_data"
    },
    {
     "data": {
      "text/plain": [
       "0.14554195"
      ]
     },
     "execution_count": 161,
     "metadata": {},
     "output_type": "execute_result"
    }
   ],
   "source": [
    "from PIL import Image\n",
    "import numpy as np\n",
    "import matplotlib.pyplot as plt\n",
    "\n",
    "print(\"Num Images in Prediction: \"+str(len(pr)))\n",
    "print(\"Dimensions of Predicted Images: \"+str(pr[0].shape))\n",
    "\n",
    "img_to_show=7\n",
    "\n",
    "print(\"Showing Prediction for Image #\"+str(img_to_show+1))\n",
    "\n",
    "img=pr[img_to_show]\n",
    "\n",
    "cmap=[\"jet\",\"jet\",\"jet\"]\n",
    "vmin=[0,0,0]\n",
    "vmax=[.1,1,1]\n",
    "\n",
    "def display(display_list):\n",
    "  plt.figure(figsize=(15, 15))\n",
    "  title = ['Input Image', 'True Mask', 'Predicted Mask']\n",
    "  for i in range(len(display_list)):\n",
    "    plt.subplot(1, len(display_list), i+1)\n",
    "    plt.title(title[i])\n",
    "    plt.imshow(display_list[i], cmap=cmap[i], vmin=vmin[i], vmax=vmax[i])\n",
    "    plt.axis('off')\n",
    "  plt.show()\n",
    "\n",
    "in_img = val_image_generator[0][img_to_show].reshape(512,512)\n",
    "true_mask = val_mask_generator[0][img_to_show].reshape(512,512)\n",
    "pr_mask = pr[img_to_show].reshape(512,512)\n",
    "\n",
    "display_list=[in_img,true_mask,pr_mask]\n",
    "display(display_list)\n",
    "\n",
    "max(pr_mask[0])\n",
    "#in_img[150:200]"
   ]
  },
  {
   "cell_type": "code",
   "execution_count": 167,
   "metadata": {},
   "outputs": [],
   "source": [
    "#AUC and ROC\n",
    "\n",
    "from sklearn.metrics import roc_curve, roc_auc_score\n",
    "\n",
    "binaries_forROC = np.round((val_masks)/65565.).astype(int).reshape(119*512*512)\n",
    "pr_forROC = pr.reshape(119*512*512)\n",
    "\n",
    "# calculate roc curve\n",
    "fpr, tpr, thresholds = roc_curve(binaries_forROC, pr_forROC)"
   ]
  },
  {
   "cell_type": "code",
   "execution_count": 168,
   "metadata": {},
   "outputs": [
    {
     "data": {
      "image/png": "[encoded data removed]",
      "text/plain": [
       "<Figure size 432x288 with 1 Axes>"
      ]
     },
     "metadata": {
      "needs_background": "light"
     },
     "output_type": "display_data"
    }
   ],
   "source": [
    "plt.plot(fpr, tpr)\n",
    "_=plt.xlabel(\"False Positive Rate\")\n",
    "_=plt.ylabel(\"True Positive Rate\")\n",
    "#plt.plot(tpr, label = 'tpr')\n",
    "#plt.plot(fpr, label = 'fpr')\n",
    "_=plt.title(\"ROC Curve\")"
   ]
  },
  {
   "cell_type": "code",
   "execution_count": 169,
   "metadata": {},
   "outputs": [
    {
     "data": {
      "image/png": "[encoded data removed]",
      "text/plain": [
       "<Figure size 432x288 with 1 Axes>"
      ]
     },
     "metadata": {
      "needs_background": "light"
     },
     "output_type": "display_data"
    }
   ],
   "source": [
    "plt.plot(thresholds, tpr, label = 'tpr')\n",
    "plt.plot(thresholds, fpr, label = 'fpr')\n",
    "_=plt.xlabel(\"Thresholds\")\n",
    "_=plt.legend()"
   ]
  },
  {
   "cell_type": "code",
   "execution_count": 166,
   "metadata": {},
   "outputs": [
    {
     "name": "stdout",
     "output_type": "stream",
     "text": [
      "AUC Score: 0.818167703483778\n"
     ]
    }
   ],
   "source": [
    "auc_score=roc_auc_score(binaries_forROC, pr_forROC)\n",
    "print(\"AUC Score: \"+str(auc_score))"
   ]
  },
  {
   "cell_type": "code",
   "execution_count": null,
   "metadata": {},
   "outputs": [],
   "source": []
  }
 ],
 "metadata": {
  "kernelspec": {
   "display_name": "tensor-venv",
   "language": "python",
   "name": "tensor-venv"
  },
  "language_info": {
   "codemirror_mode": {
    "name": "ipython",
    "version": 3
   },
   "file_extension": ".py",
   "mimetype": "text/x-python",
   "name": "python",
   "nbconvert_exporter": "python",
   "pygments_lexer": "ipython3",
   "version": "3.7.6"
  }
 },
 "nbformat": 4,
 "nbformat_minor": 4
}
